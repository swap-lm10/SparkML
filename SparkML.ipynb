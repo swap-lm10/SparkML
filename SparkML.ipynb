{
 "cells": [
  {
   "cell_type": "markdown",
   "id": "eb259aa6",
   "metadata": {},
   "source": [
    "# Initializing SparkSession"
   ]
  },
  {
   "cell_type": "code",
   "execution_count": 200,
   "id": "a9900457",
   "metadata": {},
   "outputs": [],
   "source": [
    "import os \n",
    "import findspark\n",
    "import pyspark\n",
    "from pyspark.sql import SparkSession\n",
    "findspark.init()\n",
    "from pyspark.sql.functions import *\n",
    "\n",
    "spark = SparkSession.builder.master(\"local[*]\").appName(\"SparkIsGreat\").getOrCreate()"
   ]
  },
  {
   "cell_type": "markdown",
   "id": "6cc1e885",
   "metadata": {},
   "source": [
    "# Reading Ireland Rental Data "
   ]
  },
  {
   "cell_type": "code",
   "execution_count": 201,
   "id": "eccd4c1e",
   "metadata": {},
   "outputs": [],
   "source": [
    "df_data = spark.read.format(\"csv\").option(\"header\",\"true\").option(\"inferSchema\",\"True\").load(\"/Users/swapnilbhoite/Downloads/RIA02.20230309T100358.csv\")"
   ]
  },
  {
   "cell_type": "markdown",
   "id": "d12a9174",
   "metadata": {},
   "source": [
    "# Dropping columns not required and displaying data details"
   ]
  },
  {
   "cell_type": "code",
   "execution_count": 202,
   "id": "841f7541",
   "metadata": {},
   "outputs": [
    {
     "name": "stdout",
     "output_type": "stream",
     "text": [
      "root\n",
      " |-- STATISTIC Label: string (nullable = true)\n",
      " |-- Year: integer (nullable = true)\n",
      " |-- Number of Bedrooms: string (nullable = true)\n",
      " |-- Property Type: string (nullable = true)\n",
      " |-- Location: string (nullable = true)\n",
      " |-- UNIT: string (nullable = true)\n",
      " |-- VALUE: double (nullable = true)\n",
      "\n",
      "Record Count:  262248\n",
      "root\n",
      " |-- STATISTIC Label: string (nullable = true)\n",
      " |-- Year: integer (nullable = true)\n",
      " |-- Number of Bedrooms: string (nullable = true)\n",
      " |-- Property Type: string (nullable = true)\n",
      " |-- Location: string (nullable = true)\n",
      " |-- UNIT: string (nullable = true)\n",
      " |-- VALUE: double (nullable = true)\n",
      "\n",
      "+----+------------------+------------------+--------------------+------+\n",
      "|Year|Number of Bedrooms|     Property Type|            Location| VALUE|\n",
      "+----+------------------+------------------+--------------------+------+\n",
      "|2008|      All bedrooms|All property types|              Carlow|747.88|\n",
      "|2008|      All bedrooms|All property types|         Carlow Town|811.72|\n",
      "|2008|      All bedrooms|All property types|Graiguecullen, Ca...|711.35|\n",
      "|2008|      All bedrooms|All property types|      Tullow, Carlow| 717.1|\n",
      "|2008|      All bedrooms|All property types|               Cavan|571.75|\n",
      "|2008|      All bedrooms|All property types|          Cavan Town|598.44|\n",
      "|2008|      All bedrooms|All property types|Bailieborough, Cavan|  null|\n",
      "|2008|      All bedrooms|All property types| Ballyconnell, Cavan|598.74|\n",
      "|2008|      All bedrooms|All property types|Ballyjamesduff, C...|598.45|\n",
      "|2008|      All bedrooms|All property types|    Belturbet, Cavan|481.83|\n",
      "|2008|      All bedrooms|All property types|    Cootehill, Cavan|530.63|\n",
      "|2008|      All bedrooms|All property types|   Kingscourt, Cavan|661.38|\n",
      "|2008|      All bedrooms|All property types|     Virginia, Cavan|624.92|\n",
      "|2008|      All bedrooms|All property types|               Clare|695.46|\n",
      "|2008|      All bedrooms|All property types|        Ennis, Clare|684.84|\n",
      "|2008|      All bedrooms|All property types|     Killaloe, Clare|722.54|\n",
      "|2008|      All bedrooms|All property types|      Kilrush, Clare|666.26|\n",
      "|2008|      All bedrooms|All property types|Newmarket-On-Ferg...|  null|\n",
      "|2008|      All bedrooms|All property types|      Shannon, Clare|756.08|\n",
      "|2008|      All bedrooms|All property types|Sixmilebridge, Clare|  null|\n",
      "+----+------------------+------------------+--------------------+------+\n",
      "only showing top 20 rows\n",
      "\n"
     ]
    }
   ],
   "source": [
    "df_data.printSchema()\n",
    "df = df_data.drop(\"STATISTIC Label\", \"UNIT\")\n",
    "print(\"Record Count: \", df_data.count())\n",
    "df_data.printSchema()\n",
    "df.show()\n"
   ]
  },
  {
   "cell_type": "markdown",
   "id": "9d804f00",
   "metadata": {},
   "source": [
    "# Bundling the data county-wise rather than city/town wise"
   ]
  },
  {
   "cell_type": "code",
   "execution_count": 204,
   "id": "042ee5d6",
   "metadata": {},
   "outputs": [
    {
     "name": "stdout",
     "output_type": "stream",
     "text": [
      "+----+------------------+------------------+-------+-------+\n",
      "|Year|Number of Bedrooms|     Property Type|  VALUE| County|\n",
      "+----+------------------+------------------+-------+-------+\n",
      "|2008|      All bedrooms|All property types| 711.35| Carlow|\n",
      "|2008|      All bedrooms|All property types|  717.1| Carlow|\n",
      "|2008|      All bedrooms|All property types| 598.74|  Cavan|\n",
      "|2008|      All bedrooms|All property types| 598.45|  Cavan|\n",
      "|2008|      All bedrooms|All property types| 481.83|  Cavan|\n",
      "|2008|      All bedrooms|All property types| 530.63|  Cavan|\n",
      "|2008|      All bedrooms|All property types| 661.38|  Cavan|\n",
      "|2008|      All bedrooms|All property types| 624.92|  Cavan|\n",
      "|2008|      All bedrooms|All property types| 684.84|  Clare|\n",
      "|2008|      All bedrooms|All property types| 722.54|  Clare|\n",
      "|2008|      All bedrooms|All property types| 666.26|  Clare|\n",
      "|2008|      All bedrooms|All property types| 756.08|  Clare|\n",
      "|2008|      All bedrooms|All property types| 991.98|   Cork|\n",
      "|2008|      All bedrooms|All property types|  975.4|   Cork|\n",
      "|2008|      All bedrooms|All property types|1095.57|   Cork|\n",
      "|2008|      All bedrooms|All property types| 796.24|   Cork|\n",
      "|2008|      All bedrooms|All property types| 629.08|   Cork|\n",
      "|2008|      All bedrooms|All property types|1137.84|   Cork|\n",
      "|2008|      All bedrooms|All property types| 911.24|   Cork|\n",
      "|2008|      All bedrooms|All property types|1032.77|   Cork|\n",
      "+----+------------------+------------------+-------+-------+\n",
      "only showing top 20 rows\n",
      "\n",
      "Updated record count:  69144\n",
      "root\n",
      " |-- Year: integer (nullable = true)\n",
      " |-- Number of Bedrooms: string (nullable = true)\n",
      " |-- Property Type: string (nullable = true)\n",
      " |-- VALUE: double (nullable = true)\n",
      " |-- County: string (nullable = true)\n",
      "\n"
     ]
    }
   ],
   "source": [
    "dataframe2 = df.withColumn('County', split(df['Location'], ',').getItem(1)).drop(\"Location\")\n",
    "dataframe3 = dataframe2.na.drop()\n",
    "dataframe3.show()\n",
    "print(\"Updated record count: \",dataframe3.count())\n",
    "dataframe3.printSchema()"
   ]
  },
  {
   "cell_type": "markdown",
   "id": "b143be86",
   "metadata": {},
   "source": [
    "# Encoding and indexing the string data type to be used in ML Model"
   ]
  },
  {
   "cell_type": "code",
   "execution_count": 190,
   "id": "eaf49164",
   "metadata": {},
   "outputs": [],
   "source": [
    "from pyspark.ml.feature import StringIndexer, OneHotEncoder\n",
    "# Create StringIndexer\n",
    "County_indexer = StringIndexer(inputCol='County', outputCol='County_index')\n",
    "\n",
    "# Create a OneHotEncoder\n",
    "County_encoder = OneHotEncoder(inputCol='County_index', outputCol='County_fact')\n",
    "\n",
    "# Create StringIndexer\n",
    "Bedroom_indexer = StringIndexer(inputCol='Number of Bedrooms', outputCol='Number of Bedrooms_index')\n",
    "\n",
    "# Create a OneHotEncoder\n",
    "Bedroom_encoder = OneHotEncoder(inputCol='Number of Bedrooms_index', outputCol='Bedrooms_fact')\n",
    "\n",
    "# Create StringIndexer\n",
    "Property_indexer = StringIndexer(inputCol='Property Type', outputCol='Property Type_index')\n",
    "\n",
    "# Create a OneHotEncoder\n",
    "Property_encoder = OneHotEncoder(inputCol='Property Type_index', outputCol='Property_fact')"
   ]
  },
  {
   "cell_type": "markdown",
   "id": "05c19147",
   "metadata": {},
   "source": [
    "# Creating VectorAssembler"
   ]
  },
  {
   "cell_type": "code",
   "execution_count": 191,
   "id": "8759dc8c",
   "metadata": {},
   "outputs": [],
   "source": [
    "from pyspark.ml.feature import VectorAssembler\n",
    "\n",
    "# Make a VectorAssembler\n",
    "vec_assembler = VectorAssembler(inputCols=['Year', 'County_fact', 'VALUE','Bedrooms_fact','Property_fact'],outputCol='features').setHandleInvalid(\"keep\")\n",
    "\n",
    "from pyspark.ml import Pipeline\n",
    "\n",
    "# Make the pipeline\n",
    "flights_pipe = Pipeline(stages=[County_indexer, County_encoder,Bedroom_indexer,Bedroom_encoder,Property_indexer,Property_encoder, vec_assembler])"
   ]
  },
  {
   "cell_type": "markdown",
   "id": "77ce346b",
   "metadata": {},
   "source": [
    "# Dividing the data for training and testing"
   ]
  },
  {
   "cell_type": "code",
   "execution_count": 206,
   "id": "b70f8861",
   "metadata": {},
   "outputs": [
    {
     "name": "stdout",
     "output_type": "stream",
     "text": [
      "training records:  65703\n",
      "test records:  3441\n"
     ]
    }
   ],
   "source": [
    "piped_data = flights_pipe.fit(dataframe3).transform(dataframe3)\n",
    "training, test = piped_data.randomSplit([.95, .05])\n",
    "print(\"training records: \" , training.count())\n",
    "print(\"test records: \", test.count())"
   ]
  },
  {
   "cell_type": "markdown",
   "id": "7ccaa712",
   "metadata": {},
   "source": [
    "# Using Random Forest Model"
   ]
  },
  {
   "cell_type": "code",
   "execution_count": 193,
   "id": "d7bb6923",
   "metadata": {},
   "outputs": [],
   "source": [
    "from pyspark.ml.classification import RandomForestClassifier\n",
    "\n",
    "rf = RandomForestClassifier(featuresCol = 'features', labelCol = 'County_index')\n",
    "rfModel = rf.fit(training)\n",
    "predictionsrf = rfModel.transform(test)\n",
    "#predictionsrf.show(25)"
   ]
  },
  {
   "cell_type": "markdown",
   "id": "82629d81",
   "metadata": {},
   "source": [
    "## Calculating accuracy of the model"
   ]
  },
  {
   "cell_type": "code",
   "execution_count": 207,
   "id": "91e2e9b7",
   "metadata": {},
   "outputs": [
    {
     "name": "stdout",
     "output_type": "stream",
     "text": [
      "Accuracy :  0.6681071737251513\n",
      "+------------+----------+\n",
      "|County_index|prediction|\n",
      "+------------+----------+\n",
      "|        41.0|       0.0|\n",
      "|        39.0|       0.0|\n",
      "|         4.0|       4.0|\n",
      "|         0.0|       0.0|\n",
      "|         2.0|       2.0|\n",
      "|         9.0|       9.0|\n",
      "|         7.0|       7.0|\n",
      "|        16.0|       0.0|\n",
      "|         1.0|       1.0|\n",
      "|        43.0|       0.0|\n",
      "|        15.0|      15.0|\n",
      "|         9.0|       9.0|\n",
      "|         5.0|       5.0|\n",
      "|        30.0|       0.0|\n",
      "|         5.0|       5.0|\n",
      "|         7.0|       7.0|\n",
      "|        12.0|      12.0|\n",
      "|        33.0|       0.0|\n",
      "|        13.0|      13.0|\n",
      "|         3.0|       3.0|\n",
      "+------------+----------+\n",
      "only showing top 20 rows\n",
      "\n"
     ]
    }
   ],
   "source": [
    "accuracyrf = predictionsrf.filter(predictionsrf.County_index == predictionsrf.prediction).count() / float(predictionsrf.count())\n",
    "print(\"Accuracy : \",accuracyrf)\n",
    "rf = predictionsrf.select(\"County_index\",\"prediction\")\n",
    "rf.show()"
   ]
  },
  {
   "cell_type": "markdown",
   "id": "9fe70d11",
   "metadata": {},
   "source": [
    "# Using Decision Tree ML model\n"
   ]
  },
  {
   "cell_type": "code",
   "execution_count": 208,
   "id": "a6cea150",
   "metadata": {},
   "outputs": [],
   "source": [
    "from pyspark.ml.classification import DecisionTreeClassifier\n",
    "\n",
    "dt = DecisionTreeClassifier(featuresCol = 'features', labelCol = 'County_index')\n",
    "dtModel = dt.fit(training)\n",
    "predictionsdt = dtModel.transform(test)"
   ]
  },
  {
   "cell_type": "markdown",
   "id": "bdbc5c39",
   "metadata": {},
   "source": [
    "## Calculating accuracy of the model"
   ]
  },
  {
   "cell_type": "code",
   "execution_count": 209,
   "id": "06e4ba6f",
   "metadata": {},
   "outputs": [
    {
     "name": "stdout",
     "output_type": "stream",
     "text": [
      "Accuracy :  0.3612321999418774\n",
      "+------------+----------+\n",
      "|County_index|prediction|\n",
      "+------------+----------+\n",
      "|        11.0|       5.0|\n",
      "|         6.0|       5.0|\n",
      "|        26.0|       5.0|\n",
      "|         3.0|       3.0|\n",
      "|         3.0|       3.0|\n",
      "|         3.0|       3.0|\n",
      "|         0.0|       0.0|\n",
      "|         0.0|       0.0|\n",
      "|         0.0|       0.0|\n",
      "|        16.0|       5.0|\n",
      "|        31.0|       5.0|\n",
      "|        31.0|       5.0|\n",
      "|        28.0|       5.0|\n",
      "|        24.0|       5.0|\n",
      "|        11.0|       5.0|\n",
      "|         2.0|       2.0|\n",
      "|         2.0|       2.0|\n",
      "|         4.0|       4.0|\n",
      "|        17.0|       5.0|\n",
      "|         0.0|       0.0|\n",
      "+------------+----------+\n",
      "only showing top 20 rows\n",
      "\n",
      "root\n",
      " |-- County_index: double (nullable = false)\n",
      " |-- prediction: double (nullable = false)\n",
      "\n"
     ]
    }
   ],
   "source": [
    "accuracydt = predictionsdt.filter(predictionsdt.County_index == predictionsdt.prediction).count() / float(predictionsdt.count())\n",
    "print(\"Accuracy : \",accuracydt)\n",
    "dt = predictionsdt.select(\"County_index\",\"prediction\")\n",
    "dt.show()\n",
    "dt.printSchema()"
   ]
  },
  {
   "cell_type": "markdown",
   "id": "ba4246c2",
   "metadata": {},
   "source": [
    "# Plotting actual values vs predicated "
   ]
  },
  {
   "cell_type": "code",
   "execution_count": 210,
   "id": "646498a3",
   "metadata": {},
   "outputs": [
    {
     "data": {
      "image/png": "[encoded data removed]",
      "text/plain": [
       "<Figure size 640x480 with 1 Axes>"
      ]
     },
     "metadata": {},
     "output_type": "display_data"
    }
   ],
   "source": [
    "import matplotlib.pyplot as plot\n",
    "\n",
    "rf1.plot.scatter(x=\"prediction\", y=\"County_index\")\n",
    "plot.title(\"Random Forest Model\")\n",
    "plot.xlim(0, 20)\n",
    "plot.ylim(0, 20)\n",
    "plot.show()"
   ]
  },
  {
   "cell_type": "code",
   "execution_count": 211,
   "id": "52d2642a",
   "metadata": {},
   "outputs": [
    {
     "data": {
      "image/png": "[encoded data removed]",
      "text/plain": [
       "<Figure size 640x480 with 1 Axes>"
      ]
     },
     "metadata": {},
     "output_type": "display_data"
    }
   ],
   "source": [
    "dt1.plot.scatter(x=\"prediction\", y=\"County_index\")\n",
    "plot.title(\"Decison Tree Model\")\n",
    "plot.xlim(0, 6)\n",
    "plot.ylim(0, 10)\n",
    "plot.show()\n"
   ]
  }
 ],
 "metadata": {
  "kernelspec": {
   "display_name": "Python 3 (ipykernel)",
   "language": "python",
   "name": "python3"
  },
  "language_info": {
   "codemirror_mode": {
    "name": "ipython",
    "version": 3
   },
   "file_extension": ".py",
   "mimetype": "text/x-python",
   "name": "python",
   "nbconvert_exporter": "python",
   "pygments_lexer": "ipython3",
   "version": "3.9.6"
  }
 },
 "nbformat": 4,
 "nbformat_minor": 5
}
